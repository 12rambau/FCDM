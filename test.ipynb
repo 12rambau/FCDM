{
 "cells": [
  {
   "cell_type": "code",
   "execution_count": null,
   "metadata": {},
   "outputs": [],
   "source": [
    "from component import io\n",
    "from sepal_ui import aoi \n",
    "\n",
    "aoi_io = aoi.Aoi_io(default_asset = 'users/bornToBeAlive/aoi_sandan') #small 2nd administrative level of Cambodgia\n",
    "io = io.FcdmIo() \n",
    "# basemap \n",
    "io.forest_map = 'gfc'\n",
    "io.forest_map_year = 2018\n",
    "io.treecover = 70\n",
    "\n",
    "# sensors \n",
    "io.index = 'ndvi'\n",
    "io.sensor = 'landsat 8'\n",
    "io.cloud_buffer = 500\n",
    "io.landsat_7_threshold = 0.08\n",
    "io.landsat_7_is_threshold = False\n",
    "\n",
    "# time \n",
    "io.analysis_start = '2019-01-01'\n",
    "io.analysis_end = '2019-12-31'\n",
    "io.reference_start = '2018-01-01'\n",
    "io.reference_end = '2018-12-31'\n",
    "\n",
    "# fcdm \n",
    "io.kernel_radius = 150\n",
    "io.filter_threshod = 0.035\n",
    "io.filter_radius = 80\n",
    "io.cleaning_offset = 3\n",
    "io.__dict__"
   ]
  },
  {
   "cell_type": "code",
   "execution_count": null,
   "metadata": {},
   "outputs": [],
   "source": [
    "from sepal_ui import mapping as sm\n",
    "\n",
    "Map = sm.SepalMap()\n",
    "Map"
   ]
  },
  {
   "cell_type": "markdown",
   "metadata": {},
   "source": [
    "# Here start the pythonisation\n",
    "\n",
    "one cell one function, we'll see when we get to the end how it can be improved"
   ]
  },
  {
   "cell_type": "code",
   "execution_count": null,
   "metadata": {},
   "outputs": [],
   "source": [
    "import ee \n",
    "\n",
    "ee.initialize()"
   ]
  },
  {
   "cell_type": "code",
   "execution_count": 1,
   "metadata": {},
   "outputs": [],
   "source": [
    "# rgb does not need to be translated, it's to_hex from matplotlib"
   ]
  },
  {
   "cell_type": "code",
   "execution_count": 2,
   "metadata": {},
   "outputs": [],
   "source": [
    "def join_landsat_collections(coll1, coll2):\n",
    "    \"\"\"Joining of SR and TOA collections in order to make combined use of pixel_qa band and simpleCloudScore algorithm (Thanks to George Azzari)\"\"\"\n",
    "      \n",
    "    eqfilter = ee.Filter.equals(rightField = 'system:index',leftField = 'system:index')\n",
    "    join = ee.ImageCollection(ee.Join.inner().apply(coll1, coll2, eqfilter))\n",
    "      \n",
    "    # Inner join returns a FeatureCollection with a primary and secondary set of properties. \n",
    "    #vProperties are collapsed into different bands of an image.\n",
    "    joined = join.map(lambda el: ee.Image.cat(el.get('primary'), el.get('secondary')))\n",
    "    \n",
    "    return joined.sort('system:time_start')"
   ]
  },
  {
   "cell_type": "code",
   "execution_count": null,
   "metadata": {},
   "outputs": [],
   "source": []
  }
 ],
 "metadata": {
  "kernelspec": {
   "display_name": "Python 3",
   "language": "python",
   "name": "python3"
  },
  "language_info": {
   "codemirror_mode": {
    "name": "ipython",
    "version": 3
   },
   "file_extension": ".py",
   "mimetype": "text/x-python",
   "name": "python",
   "nbconvert_exporter": "python",
   "pygments_lexer": "ipython3",
   "version": "3.6.9"
  }
 },
 "nbformat": 4,
 "nbformat_minor": 4
}
